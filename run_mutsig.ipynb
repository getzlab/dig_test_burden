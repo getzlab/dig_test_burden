{
 "cells": [
  {
   "cell_type": "code",
   "execution_count": null,
   "id": "b7d5919d-cfcc-4090-b94b-138eea6b4d13",
   "metadata": {},
   "outputs": [],
   "source": [
    "import wolf\n",
    "import pandas as pd\n",
    "from matplotlib import pyplot as plt\n",
    "import os"
   ]
  },
  {
   "cell_type": "code",
   "execution_count": null,
   "id": "6ca8145e-99e7-41c4-8f35-2efc44ac9554",
   "metadata": {},
   "outputs": [],
   "source": [
    "params = {\n",
    "    'maxperm': 1e6,\n",
    "    'penalty_per_strike': 1.1,\n",
    "    'base_min_effect_size': 1.01,\n",
    "    'pCL_min_effect_size': 1.01,\n",
    "    'pFN_min_effect_size': 1.01,\n",
    "    'pCF_min_effect_size': 1.01,\n",
    "    'min_neighbors': 3,\n",
    "    'max_neighbors': 100,\n",
    "    'min_mutations_in_bagel': 10\n",
    "}"
   ]
  },
  {
   "cell_type": "code",
   "execution_count": null,
   "id": "f9c601e6-57f4-4a0b-8907-c0398a079cfc",
   "metadata": {},
   "outputs": [],
   "source": [
    "df_params = pd.Series(params)\n",
    "df_params.to_csv('params.txt', sep='\\t')\n",
    "df_params"
   ]
  },
  {
   "cell_type": "code",
   "execution_count": null,
   "id": "1b5112d2-2cbd-46b9-9882-c68d1703b196",
   "metadata": {},
   "outputs": [],
   "source": [
    "class MutSig2CV_v5(wolf.Task):\n",
    "    inputs = {\n",
    "      \"maf\" : None,\n",
    "      \"params_file\" : None,\n",
    "      \"patient_weights_file\" : \"\", # <- will be ignored by MutSig\n",
    "      # TODO: update default params file to reference these locally\n",
    "      \"coverage_models_mat_file\" : \"gs://getzlab-workflows-reference_files-oa/MutSig2CV/hg38/coverage_models.agilent.mat\",\n",
    "      \"target_list_file\" : \"gs://getzlab-workflows-reference_files-oa/MutSig2CV/hg38/target_list.gencode25.txt\",\n",
    "      \"context_and_effect_fwb_file\" : \"gs://getzlab-workflows-reference_files-oa/MutSig2CV/hg38/context_and_effect_track.fwb\",\n",
    "      \"context_and_effect_fwi_file\" : \"gs://getzlab-workflows-reference_files-oa/MutSig2CV/hg38/context_and_effect_track.fwi\",\n",
    "      \"covariates_file\" : \"gs://getzlab-workflows-reference_files-oa/MutSig2CV/hg38/covariates.agilent.txt\",\n",
    "\n",
    "      # NOTE: these are reference agnostic\n",
    "      \"context_and_effect_categs_file\" : \"gs://getzlab-workflows-reference_files-oa/MutSig2CV/context_and_effect_dict.txt\",\n",
    "      \"mutation_type_dictionary_file\" : \"gs://getzlab-workflows-reference_files-oa/MutSig2CV/mutation_type_dictionary.v6.txt\",\n",
    "      \"FixedWidthBinary_jar_file\" : \"gs://getzlab-workflows-reference_files-oa/MutSig2CV/FixedWidthBinary.jar\",\n",
    "\n",
    "      # NOTE: these are ignored by MutSig on hg38 runs\n",
    "      \"basewise_coverage_fwb_file\" : \"gs://getzlab-workflows-reference_files-oa/MutSig2CV/coverage_basewise.fwb\",\n",
    "      \"basewise_coverage_fwi_file\" : \"gs://getzlab-workflows-reference_files-oa/MutSig2CV/coverage_basewise.fwi\",\n",
    "      \"conservation_fwb_file\" : \"gs://getzlab-workflows-reference_files-oa/MutSig2CV/conservation46.fwb\",\n",
    "      \"conservation_fwi_file\" : \"gs://getzlab-workflows-reference_files-oa/MutSig2CV/conservation46.fwi\"\n",
    "    }\n",
    "    script = \"\"\"\n",
    "# regenerate params file to point to inputs\n",
    "/app/process_params_file.py ${params_file}\n",
    "\n",
    "/app/MutSig2CV_v5 ${maf} outdir params_remapped.txt\n",
    "tar czf results.tgz outdir\n",
    "\"\"\"\n",
    "    outputs = { \"mutsig_results\" : \"*.tgz\" }\n",
    "    docker = \"gcr.io/broad-getzlab-workflows/mutsig2cv_v5:v33\"\n",
    "    resources = { \"cpus-per-task\": 2, \"mem\" : \"20G\" } "
   ]
  },
  {
   "cell_type": "code",
   "execution_count": null,
   "id": "66d841b6-bd00-4a08-8b28-910e6596fb33",
   "metadata": {},
   "outputs": [],
   "source": [
    "results = MutSig2CV_v5(\n",
    "    inputs = {\n",
    "        \"maf\" : 'MutSig_matched_pairs_2024_03_10.union_mafs.concat.tsv',\n",
    "        \"params_file\" : 'params.txt',\n",
    "        \"coverage_models_mat_file\" : \"gs://getzlab-workflows-reference_files-oa/MutSig2CV/hg19/coverage_models.v5a.mat\",\n",
    "        \"target_list_file\" : \"gs://getzlab-workflows-reference_files-oa/MutSig2CV/hg19/target_list.gencode19.v1.txt\",\n",
    "        \"context_and_effect_fwb_file\" : \"gs://getzlab-workflows-reference_files-oa/MutSig2CV/hg19/context_and_effect.c65e29.gencode19.fwb\",\n",
    "        \"context_and_effect_fwi_file\" : \"gs://getzlab-workflows-reference_files-oa/MutSig2CV/hg19/context_and_effect.c65e29.gencode19.fwi\",\n",
    "        \"covariates_file\" : \"gs://getzlab-workflows-reference_files-oa/MutSig2CV/hg19/covariates_transformed.v5a.txt\"\n",
    "    }\n",
    ").run()"
   ]
  }
 ],
 "metadata": {
  "kernelspec": {
   "display_name": "Python 3 (ipykernel)",
   "language": "python",
   "name": "python3"
  },
  "language_info": {
   "codemirror_mode": {
    "name": "ipython",
    "version": 3
   },
   "file_extension": ".py",
   "mimetype": "text/x-python",
   "name": "python",
   "nbconvert_exporter": "python",
   "pygments_lexer": "ipython3",
   "version": "3.10.8"
  }
 },
 "nbformat": 4,
 "nbformat_minor": 5
}
